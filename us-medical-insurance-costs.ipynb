{
 "cells": [
  {
   "cell_type": "markdown",
   "metadata": {},
   "source": [
    "# U.S. Medical Insurance Costs"
   ]
  },
  {
   "cell_type": "code",
   "execution_count": 2,
   "metadata": {},
   "outputs": [
    {
     "name": "stdout",
     "output_type": "stream",
     "text": [
      "      age     sex     bmi  children smoker     region      charges\n",
      "0      19  female  27.900         0    yes  southwest  16884.92400\n",
      "1      18    male  33.770         1     no  southeast   1725.55230\n",
      "2      28    male  33.000         3     no  southeast   4449.46200\n",
      "3      33    male  22.705         0     no  northwest  21984.47061\n",
      "4      32    male  28.880         0     no  northwest   3866.85520\n",
      "...   ...     ...     ...       ...    ...        ...          ...\n",
      "1333   50    male  30.970         3     no  northwest  10600.54830\n",
      "1334   18  female  31.920         0     no  northeast   2205.98080\n",
      "1335   18  female  36.850         0     no  southeast   1629.83350\n",
      "1336   21  female  25.800         0     no  southwest   2007.94500\n",
      "1337   61  female  29.070         0    yes  northwest  29141.36030\n",
      "\n",
      "[1338 rows x 7 columns]\n"
     ]
    }
   ],
   "source": [
    "import pandas as pd\n",
    "import numpy as np\n",
    "df = pd.read_csv('insurance.csv')\n",
    "print(df)"
    "print("I have made a small change in order to test the connection between Azure and github")"
   ]
  },
  {
   "cell_type": "code",
   "execution_count": 2,
   "metadata": {},
   "outputs": [
    {
     "name": "stdout",
     "output_type": "stream",
     "text": [
      "      age     sex     bmi  children smoker     region      charges\n",
      "543    54  female  47.410         0    yes  southeast  63770.42801\n",
      "1300   45    male  30.360         0    yes  southeast  62592.87309\n",
      "1230   52    male  34.485         3    yes  northwest  60021.39897\n",
      "577    31  female  38.095         1    yes  northeast  58571.07448\n",
      "819    33  female  35.530         0    yes  northwest  55135.40209\n",
      "...   ...     ...     ...       ...    ...        ...          ...\n",
      "29     31    male  36.300         2    yes  southwest  38711.00000\n",
      "49     36    male  35.200         1    yes  southeast  38709.17600\n",
      "240    23  female  36.670         2    yes  northeast  38511.62830\n",
      "1207   36    male  33.400         2    yes  southwest  38415.47400\n",
      "1288   20    male  39.400         2    yes  southwest  38344.56600\n",
      "\n",
      "[100 rows x 7 columns]\n"
     ]
    }
   ],
   "source": [
    "#Which customers bring the most money \n",
    "\n",
    "average_money = df.charges.quantile()\n",
    "above_average_df = df[df[\"charges\"] > average_money].nlargest(100,['charges'])\n",
    "\n",
    "\n",
    "print(above_average_df)"
   ]
  },
  {
   "cell_type": "code",
   "execution_count": 8,
   "metadata": {},
   "outputs": [
    {
     "name": "stdout",
     "output_type": "stream",
     "text": [
      "children\n",
      "0     9856.95190\n",
      "1     8483.87015\n",
      "2     9264.97915\n",
      "3    10600.54830\n",
      "4    11033.66170\n",
      "5     8589.56505\n",
      "Name: charges, dtype: float64\n",
      "children\n",
      "0    12365.975602\n",
      "1    12731.171832\n",
      "2    15073.563734\n",
      "3    15355.318367\n",
      "4    13850.656311\n",
      "5     8786.035247\n",
      "Name: charges, dtype: float64\n",
      "sex     children\n",
      "female  0            9541.695550\n",
      "        1            8232.868150\n",
      "        2           10107.220600\n",
      "        3           11085.586800\n",
      "        4           11033.661700\n",
      "        5            8781.311775\n",
      "male    0           10214.636000\n",
      "        1            8734.352500\n",
      "        2            8603.823400\n",
      "        3           10414.975850\n",
      "        4           11128.485300\n",
      "        5            6732.850500\n",
      "Name: charges, dtype: float64\n",
      "sex     children\n",
      "female  0           11905.714276\n",
      "        1           12161.360414\n",
      "        2           13941.317326\n",
      "        3           13865.605066\n",
      "        4           13937.674562\n",
      "        5            9854.006419\n",
      "male    0           12832.696736\n",
      "        1           13273.522458\n",
      "        2           16187.095325\n",
      "        3           16789.167419\n",
      "        4           13782.284829\n",
      "        5            7931.658310\n",
      "Name: charges, dtype: float64\n"
     ]
    }
   ],
   "source": [
    "#N Having kids and being male/female affects charges \n",
    "charges_kids_median = df.groupby('children').charges.median()\n",
    "print(charges_kids_median)\n",
    "charges_kids_mean = df.groupby('children').charges.mean()\n",
    "print(charges_kids_mean)\n",
    "#Median is less than the mean so the distribution is right skewed and the majority of the data is concentrated to the left with the tail extendidng to the right\n",
    "charges_sex_kids_median = df.groupby(['sex','children']).charges.median()\n",
    "print(charges_sex_kids_median)\n",
    "charges_sex_kids_mean = df.groupby(['sex','children']).charges.mean() \n",
    "print(charges_sex_kids_mean)\n"
   ]
  },
  {
   "cell_type": "code",
   "execution_count": null,
   "metadata": {},
   "outputs": [],
   "source": [
    "#D Ranges for bmi affecting charges "
   ]
  },
  {
   "cell_type": "code",
   "execution_count": null,
   "metadata": {},
   "outputs": [],
   "source": [
    "# what the top 3 correlated variables are to charges "
   ]
  },
  {
   "cell_type": "code",
   "execution_count": null,
   "metadata": {},
   "outputs": [],
   "source": [
    "#N Sex affecting charges "
   ]
  },
  {
   "cell_type": "code",
   "execution_count": null,
   "metadata": {},
   "outputs": [],
   "source": [
    "#N Plot graph of average bmi vs smoker status "
   ]
  },
  {
   "cell_type": "code",
   "execution_count": null,
   "metadata": {},
   "outputs": [],
   "source": [
    "#D What percentage are overweight vs underweight, plot and histogram "
   ]
  },
  {
   "cell_type": "code",
   "execution_count": 24,
   "metadata": {},
   "outputs": [
    {
     "name": "stdout",
     "output_type": "stream",
     "text": [
      "age\n",
      "18    31.3500\n",
      "19    28.5000\n",
      "20    30.6850\n",
      "21    26.8800\n",
      "22    30.7100\n",
      "23    32.1450\n",
      "24    28.9000\n",
      "25    28.0725\n",
      "26    29.5600\n",
      "27    30.4500\n",
      "28    29.0700\n",
      "29    29.5900\n",
      "30    28.6900\n",
      "31    29.2600\n",
      "32    30.4150\n",
      "33    31.5750\n",
      "34    29.7350\n",
      "35    31.0000\n",
      "36    29.0400\n",
      "37    30.7800\n",
      "38    28.2700\n",
      "39    29.6000\n",
      "40    29.6000\n",
      "41    32.2000\n",
      "42    29.0000\n",
      "43    30.1000\n",
      "44    30.2000\n",
      "45    30.2000\n",
      "46    30.4950\n",
      "47    29.5450\n",
      "48    31.4450\n",
      "49    30.1125\n",
      "50    30.1150\n",
      "51    33.9150\n",
      "52    32.7750\n",
      "53    29.9875\n",
      "54    31.0200\n",
      "55    32.5325\n",
      "56    32.2050\n",
      "57    30.1525\n",
      "58    32.9650\n",
      "59    29.7000\n",
      "60    29.6400\n",
      "61    33.3300\n",
      "62    32.0150\n",
      "63    32.2000\n",
      "64    33.8400\n",
      "Name: bmi, dtype: float64\n",
      "smoker  age\n",
      "no      18     31.3500\n",
      "        19     27.8825\n",
      "        20     31.6250\n",
      "        21     28.1675\n",
      "        22     28.8500\n",
      "                ...   \n",
      "yes     60     32.8000\n",
      "        61     32.8900\n",
      "        62     28.7850\n",
      "        63     32.2000\n",
      "        64     31.3000\n",
      "Name: bmi, Length: 94, dtype: float64\n",
      "age  smoker\n",
      "18   no        57\n",
      "     yes       12\n",
      "19   no        50\n",
      "     yes       18\n",
      "20   no        20\n",
      "               ..\n",
      "62   yes        4\n",
      "63   no        18\n",
      "     yes        5\n",
      "64   no        15\n",
      "     yes        7\n",
      "Name: bmi, Length: 94, dtype: int64\n"
     ]
    }
   ],
   "source": [
    "bmi_smoker = df.groupby(['smoker', 'age']).bmi.median()\n",
    "smoker_age = df.groupby(['age', 'smoker']).bmi.count()\n",
    "age_bmi = df.groupby('age').bmi.median()\n",
    "print(age_bmi)\n",
    "#print(number_18)\n",
    "print(bmi_smoker)\n",
    "print(smoker_age)"
   ]
  },
  {
   "cell_type": "code",
   "execution_count": null,
   "metadata": {},
   "outputs": [],
   "source": [
    "# partition bmi and age "
   ]
  },
  {
   "cell_type": "code",
   "execution_count": null,
   "metadata": {},
   "outputs": [],
   "source": [
    "#which region charges the most look at the mean once grouped by region \n",
    "# average charge vs mean for each region - what does that measure, is it an accurate measure set\n",
    "# look at the cheapest region and examine other variables in that region "
   ]
  },
  {
   "cell_type": "code",
   "execution_count": 14,
   "metadata": {},
   "outputs": [
    {
     "name": "stdout",
     "output_type": "stream",
     "text": [
      "region\n",
      "northeast    13406.384516\n",
      "northwest    12417.575374\n",
      "southeast    14735.411438\n",
      "southwest    12346.937377\n",
      "Name: charges, dtype: float64\n",
      "13270.422265141257\n",
      "region\n",
      "northeast    324\n",
      "northwest    325\n",
      "southeast    364\n",
      "southwest    325\n",
      "Name: age, dtype: int64\n"
     ]
    }
   ],
   "source": [
    "charge_per_region = df.groupby('region').charges.mean()\n",
    "num_entries_region = df.groupby('region').age.count()\n",
    "average_charge = df.charges.mean()\n",
    "\n",
    "print(charge_per_region)\n",
    "print(average_charge)\n",
    "print(num_entries_region)"
   ]
  },
  {
   "cell_type": "code",
   "execution_count": 24,
   "metadata": {},
   "outputs": [
    {
     "name": "stdout",
     "output_type": "stream",
     "text": [
      "children\n",
      "0    12365.975602\n",
      "1    12731.171832\n",
      "2    15073.563734\n",
      "3    15355.318367\n",
      "4    13850.656311\n",
      "5     8786.035247\n",
      "Name: charges, dtype: float64\n",
      "children\n",
      "0    574\n",
      "1    324\n",
      "2    240\n",
      "3    157\n",
      "4     25\n",
      "5     18\n",
      "Name: age, dtype: int64\n"
     ]
    }
   ],
   "source": [
    "charge_per_children = df.groupby('children').charges.mean()\n",
    "num_entries_children = df.groupby('children').age.count()\n",
    "\n",
    "print(charge_per_children)\n",
    "print(num_entries_children)"
   ]
  },
  {
   "cell_type": "code",
   "execution_count": 30,
   "metadata": {},
   "outputs": [
    {
     "data": {
      "text/plain": [
       "smoker  region   \n",
       "no      northeast    257\n",
       "        northwest    267\n",
       "        southeast    273\n",
       "        southwest    267\n",
       "yes     northeast     67\n",
       "        northwest     58\n",
       "        southeast     91\n",
       "        southwest     58\n",
       "Name: region, dtype: int64"
      ]
     },
     "execution_count": 30,
     "metadata": {},
     "output_type": "execute_result"
    }
   ],
   "source": [
    "df.groupby(['smoker','region']).region.count()"
   ]
  },
  {
   "cell_type": "code",
   "execution_count": 20,
   "metadata": {},
   "outputs": [
    {
     "name": "stdout",
     "output_type": "stream",
     "text": [
      "sex\n",
      "female    12569.578844\n",
      "male      13956.751178\n",
      "Name: charges, dtype: float64\n",
      "sex\n",
      "female    662\n",
      "male      676\n",
      "Name: age, dtype: int64\n"
     ]
    }
   ],
   "source": [
    "charges_per_sex = df.groupby('sex').charges.mean()\n",
    "num_entries_sex = df.groupby('sex').age.count()\n",
    "print(charges_per_sex)\n",
    "print(num_entries_sex)"
   ]
  },
  {
   "cell_type": "code",
   "execution_count": 21,
   "metadata": {},
   "outputs": [
    {
     "name": "stdout",
     "output_type": "stream",
     "text": [
      "smoker\n",
      "no      8434.268298\n",
      "yes    32050.231832\n",
      "Name: charges, dtype: float64\n",
      "smoker\n",
      "no     1064\n",
      "yes     274\n",
      "Name: age, dtype: int64\n"
     ]
    }
   ],
   "source": [
    "charges_per_smoker = df.groupby('smoker').charges.mean()\n",
    "num_entries_smoker = df.groupby('smoker').age.count()\n",
    "print(charges_per_smoker)\n",
    "print(num_entries_smoker)"
   ]
  }
 ],
 "metadata": {
  "kernelspec": {
   "display_name": "Python 3",
   "language": "python",
   "name": "python3"
  },
  "language_info": {
   "codemirror_mode": {
    "name": "ipython",
    "version": 3
   },
   "file_extension": ".py",
   "mimetype": "text/x-python",
   "name": "python",
   "nbconvert_exporter": "python",
   "pygments_lexer": "ipython3",
   "version": "3.9.1"
  }
 },
 "nbformat": 4,
 "nbformat_minor": 4
}
